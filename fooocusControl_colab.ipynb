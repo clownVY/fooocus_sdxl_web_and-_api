{
 "cells": [
  {
   "cell_type": "code",
   "execution_count": null,
   "id": "initial_id",
   "metadata": {
    "collapsed": true
   },
   "outputs": [],
   "source": [
    "!pip install pygit2==1.12.2\n",
    "%cd /content\n",
    "!git clone https://github.com/fenneishi/Fooocus-Control.git\n",
    "%cd /content/Fooocus\n",
    "!cp colab_fix.txt user_path_config.txt\n",
    "# for FooocusControl(follow Fooocus) Realistic Edition.\n",
    "!python entry_with_update.py --preset realistic --share \n",
    "# for FooocusControl(follow Fooocus) Anime Edition.\n",
    "# !python entry_with_update.py --preset anime  --share  "
   ]
  }
 ],
 "metadata": {
  "kernelspec": {
   "display_name": "Python 3",
   "language": "python",
   "name": "python3"
  },
  "language_info": {
   "codemirror_mode": {
    "name": "ipython",
    "version": 2
   },
   "file_extension": ".py",
   "mimetype": "text/x-python",
   "name": "python",
   "nbconvert_exporter": "python",
   "pygments_lexer": "ipython2",
   "version": "2.7.6"
  }
 },
 "nbformat": 4,
 "nbformat_minor": 5
}
